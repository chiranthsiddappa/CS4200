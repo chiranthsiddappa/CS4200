{
 "cells": [
  {
   "cell_type": "markdown",
   "id": "dda89a2b",
   "metadata": {},
   "source": [
    "# Floating Point\n",
    "\n",
    "The following examples show the steps required to convert a real number to a binary representation to store in hardware. The [IEEE 754](https://docs.oracle.com/cd/E19957-01/806-3568/ncg_math.html) standard defines this hardware standard for how floating point numbers are stored. The two sizes this standard defines are `32-bit` and `64-bit` numbers. We'll use the following definition for these explorations where `S` is the sign bit, `M` is the significand bits, `E` for the exponent.\n",
    "$$(-1)^{s} M 2^{E}$$\n",
    "To store the binary, the data will go into fields called: \n",
    "* `exp` for the exponent bits: $E + bias$\n",
    "* `frac` for the fractional bits\n",
    "\n",
    "|Definition|exp|frac|bias|\n",
    "|----------|---|----|----|\n",
    "|32-bit    | 8 | 23 |127 |\n",
    "|64-bit    | 11| 52 |1023|\n",
    "| Tiny     | 4 | 3  | 7  |\n",
    "\n",
    "Here are the steps required to fully complete converting a real number to the binary form:\n",
    "\n",
    "1. Write fixed point binary representation\n",
    "   1. Convert the fractional portion via multiplication\n",
    "1. Normalize the binary number to be of the form `1.xxxe##`\n",
    "1. Apply bias to the exponent to find `exp`\n",
    "1. Convert exp to binary\n",
    "1. Store values, including the sign bit\n",
    "\n",
    "|S|exp|frac|\n",
    "|-|---|----|"
   ]
  },
  {
   "cell_type": "code",
   "execution_count": null,
   "id": "d54a09f6",
   "metadata": {},
   "outputs": [],
   "source": [
    "from decimal import Decimal\n",
    "import pandas as pd\n",
    "from IPython.display import display, Math\n",
    "\n",
    "bias_32 = 127\n",
    "bias_64 = 1023\n",
    "bias_tiny = 7"
   ]
  },
  {
   "cell_type": "markdown",
   "id": "1321da4e",
   "metadata": {},
   "source": [
    "A number to start with: `2080.0`. In this case, there is no fractional portion to consider."
   ]
  },
  {
   "cell_type": "code",
   "execution_count": null,
   "id": "e629134e",
   "metadata": {},
   "outputs": [],
   "source": [
    "bin(2080)"
   ]
  },
  {
   "cell_type": "markdown",
   "id": "4cc27f9f",
   "metadata": {},
   "source": [
    "The normalized binary representation is then: `1.00000100000`"
   ]
  },
  {
   "cell_type": "markdown",
   "id": "bf53bb23",
   "metadata": {},
   "source": [
    "What is the exponent?"
   ]
  },
  {
   "cell_type": "code",
   "execution_count": null,
   "id": "4e0eda9c",
   "metadata": {},
   "outputs": [],
   "source": [
    "E = len(_) - 3\n",
    "E"
   ]
  },
  {
   "cell_type": "markdown",
   "id": "dcda30b2",
   "metadata": {},
   "source": [
    "Apply the bias:"
   ]
  },
  {
   "cell_type": "code",
   "execution_count": null,
   "id": "1236e58a",
   "metadata": {},
   "outputs": [],
   "source": [
    "exp_bits_32 = E + bias_32\n",
    "exp_bits_32"
   ]
  },
  {
   "cell_type": "code",
   "execution_count": null,
   "id": "8055ca0e",
   "metadata": {},
   "outputs": [],
   "source": [
    "exp_bits_64 = E + bias_64\n",
    "exp_bits_64"
   ]
  },
  {
   "cell_type": "code",
   "execution_count": null,
   "id": "6c38828a",
   "metadata": {},
   "outputs": [],
   "source": [
    "pd.DataFrame.from_dict([{'Definition': '32-bits', 'exp': bin(exp_bits_32)[2:], 'frac': '0'*23},\n",
    "                        {'Definition': '64-bits', 'exp': bin(exp_bits_64)[2:], 'frac': '0'*52}\n",
    "                       ])"
   ]
  },
  {
   "cell_type": "markdown",
   "id": "7460f42b",
   "metadata": {},
   "source": [
    "Note that since `E` is 11, it cannot be stored into the tiny representation."
   ]
  },
  {
   "cell_type": "markdown",
   "id": "17ff57aa",
   "metadata": {},
   "source": [
    "Now, for an example with a fractional portion: `7.875`. For this example, a sum of base two fractional portions has been chosen."
   ]
  },
  {
   "cell_type": "code",
   "execution_count": null,
   "id": "6d9e23d2",
   "metadata": {},
   "outputs": [],
   "source": [
    "bin(7)"
   ]
  },
  {
   "cell_type": "code",
   "execution_count": null,
   "id": "5a7e1a42",
   "metadata": {},
   "outputs": [],
   "source": [
    "bit_remainder = 7.875 % 1\n",
    "bit_remainder"
   ]
  },
  {
   "cell_type": "code",
   "execution_count": null,
   "id": "976e5fb3",
   "metadata": {},
   "outputs": [],
   "source": [
    "next_bit = 1\n",
    "power = -1\n",
    "frac_bits = ''\n",
    "while next_bit != 0:\n",
    "    bit_remainder_prev = bit_remainder\n",
    "    bit_remainder *= 2\n",
    "    next_bit = bit_remainder % 1\n",
    "    frac_bits += '1'\n",
    "    display(Math(r'$2^{{ {} }}  : {} * 2 = {}'.format(power, bit_remainder_prev, bit_remainder)))\n",
    "    bit_remainder -= 1\n",
    "    power -= 1"
   ]
  },
  {
   "cell_type": "markdown",
   "id": "3425e8c7",
   "metadata": {},
   "source": [
    "Now, the full bits representation can be completed:"
   ]
  },
  {
   "cell_type": "code",
   "execution_count": null,
   "id": "3d7df962",
   "metadata": {},
   "outputs": [],
   "source": [
    "frac_bits = bin(7)[2:] + '.' + frac_bits\n",
    "frac_bits"
   ]
  },
  {
   "cell_type": "markdown",
   "id": "bc7c5d80",
   "metadata": {},
   "source": [
    "Now, `E` is just 2, which provides the normalized value of `1.11111`"
   ]
  },
  {
   "cell_type": "code",
   "execution_count": null,
   "id": "d151f294",
   "metadata": {},
   "outputs": [],
   "source": [
    "E = 2\n",
    "E"
   ]
  },
  {
   "cell_type": "markdown",
   "id": "79dd365c",
   "metadata": {},
   "source": [
    "Apply the bias:"
   ]
  },
  {
   "cell_type": "code",
   "execution_count": null,
   "id": "bce27067",
   "metadata": {},
   "outputs": [],
   "source": [
    "exp_bits_32 = E + bias_32\n",
    "exp_bits_32"
   ]
  },
  {
   "cell_type": "code",
   "execution_count": null,
   "id": "634a6344",
   "metadata": {},
   "outputs": [],
   "source": [
    "exp_bits_64 = E + bias_64\n",
    "exp_bits_64"
   ]
  },
  {
   "cell_type": "code",
   "execution_count": null,
   "id": "6ed70d8a",
   "metadata": {},
   "outputs": [],
   "source": [
    "exp_bits_tiny = E + bias_tiny\n",
    "exp_bits_tiny"
   ]
  },
  {
   "cell_type": "code",
   "execution_count": null,
   "id": "a35238dd",
   "metadata": {},
   "outputs": [],
   "source": [
    "frac_bits = frac_bits.replace('.', '').ljust(52 - len(frac_bits), '0')\n",
    "frac_bits"
   ]
  },
  {
   "cell_type": "code",
   "execution_count": null,
   "id": "e249d086",
   "metadata": {},
   "outputs": [],
   "source": [
    "pd.DataFrame.from_dict([{'Definition': '32-bits', 'exp': bin(exp_bits_32)[2:], 'frac': frac_bits[:23]},\n",
    "                        {'Definition': '64-bits', 'exp': bin(exp_bits_64)[2:], 'frac': frac_bits[:52]},\n",
    "                        {'Definition': 'Tiny', 'exp': bin(exp_bits_tiny)[2:], 'frac': frac_bits[:3]}\n",
    "                       ])"
   ]
  },
  {
   "cell_type": "markdown",
   "id": "75fa6089",
   "metadata": {},
   "source": [
    "The tiny representation shows that a precision loss has occurred. To figure out the precision loss, the stored number can be calculated."
   ]
  },
  {
   "cell_type": "code",
   "execution_count": null,
   "id": "4424b761",
   "metadata": {},
   "outputs": [],
   "source": [
    "E = exp_bits_tiny - bias_tiny\n",
    "E"
   ]
  },
  {
   "cell_type": "markdown",
   "id": "c80f0212",
   "metadata": {},
   "source": [
    "The normalized value in binary would now be:"
   ]
  },
  {
   "cell_type": "code",
   "execution_count": null,
   "id": "b24eddef",
   "metadata": {},
   "outputs": [],
   "source": [
    "'1.' + frac_bits[:3]"
   ]
  },
  {
   "cell_type": "markdown",
   "id": "217efaf9",
   "metadata": {},
   "source": [
    "Shifting by `E` gives the value: `111.1`."
   ]
  },
  {
   "cell_type": "code",
   "execution_count": null,
   "id": "0b29bc7e",
   "metadata": {},
   "outputs": [],
   "source": [
    "int('111', 2) + 2**-1"
   ]
  }
 ],
 "metadata": {
  "kernelspec": {
   "display_name": "Python 3 (ipykernel)",
   "language": "python",
   "name": "python3"
  },
  "language_info": {
   "codemirror_mode": {
    "name": "ipython",
    "version": 3
   },
   "file_extension": ".py",
   "mimetype": "text/x-python",
   "name": "python",
   "nbconvert_exporter": "python",
   "pygments_lexer": "ipython3",
   "version": "3.9.12"
  }
 },
 "nbformat": 4,
 "nbformat_minor": 5
}
